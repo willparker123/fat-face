{
 "metadata": {
  "language_info": {
   "codemirror_mode": {
    "name": "ipython",
    "version": 3
   },
   "file_extension": ".py",
   "mimetype": "text/x-python",
   "name": "python",
   "nbconvert_exporter": "python",
   "pygments_lexer": "ipython3",
   "version": "3.6.9"
  },
  "orig_nbformat": 2,
  "kernelspec": {
   "name": "python3",
   "display_name": "Python 3.6.9 64-bit"
  }
 },
 "nbformat": 4,
 "nbformat_minor": 2,
 "cells": [
  {
   "cell_type": "markdown",
   "metadata": {},
   "source": [
    "Cleaning code from https://ryanwingate.com/projects/machine-learning-data-prep/adult/adult-cleaning/."
   ]
  },
  {
   "cell_type": "code",
   "execution_count": 114,
   "metadata": {},
   "outputs": [],
   "source": [
    "import pandas as pd\n",
    "import numpy as np\n",
    "import matplotlib.pyplot as plt"
   ]
  },
  {
   "cell_type": "code",
   "execution_count": 115,
   "metadata": {},
   "outputs": [
    {
     "output_type": "stream",
     "name": "stdout",
     "text": [
      "(48842, 15)\n"
     ]
    },
    {
     "output_type": "execute_result",
     "data": {
      "text/plain": [
       "   age         workclass  fnlwgt  education  education-num  \\\n",
       "0   39         State-gov   77516  Bachelors             13   \n",
       "1   50  Self-emp-not-inc   83311  Bachelors             13   \n",
       "2   38           Private  215646    HS-grad              9   \n",
       "3   53           Private  234721       11th              7   \n",
       "4   28           Private  338409  Bachelors             13   \n",
       "\n",
       "       marital-status         occupation   relationship   race     sex  \\\n",
       "0       Never-married       Adm-clerical  Not-in-family  White    Male   \n",
       "1  Married-civ-spouse    Exec-managerial        Husband  White    Male   \n",
       "2            Divorced  Handlers-cleaners  Not-in-family  White    Male   \n",
       "3  Married-civ-spouse  Handlers-cleaners        Husband  Black    Male   \n",
       "4  Married-civ-spouse     Prof-specialty           Wife  Black  Female   \n",
       "\n",
       "   capital-gain  capital-loss  hours-per-week native-country compensation  \n",
       "0          2174             0              40  United-States        <=50K  \n",
       "1             0             0              13  United-States        <=50K  \n",
       "2             0             0              40  United-States        <=50K  \n",
       "3             0             0              40  United-States        <=50K  \n",
       "4             0             0              40           Cuba        <=50K  "
      ],
      "text/html": "<div>\n<style scoped>\n    .dataframe tbody tr th:only-of-type {\n        vertical-align: middle;\n    }\n\n    .dataframe tbody tr th {\n        vertical-align: top;\n    }\n\n    .dataframe thead th {\n        text-align: right;\n    }\n</style>\n<table border=\"1\" class=\"dataframe\">\n  <thead>\n    <tr style=\"text-align: right;\">\n      <th></th>\n      <th>age</th>\n      <th>workclass</th>\n      <th>fnlwgt</th>\n      <th>education</th>\n      <th>education-num</th>\n      <th>marital-status</th>\n      <th>occupation</th>\n      <th>relationship</th>\n      <th>race</th>\n      <th>sex</th>\n      <th>capital-gain</th>\n      <th>capital-loss</th>\n      <th>hours-per-week</th>\n      <th>native-country</th>\n      <th>compensation</th>\n    </tr>\n  </thead>\n  <tbody>\n    <tr>\n      <th>0</th>\n      <td>39</td>\n      <td>State-gov</td>\n      <td>77516</td>\n      <td>Bachelors</td>\n      <td>13</td>\n      <td>Never-married</td>\n      <td>Adm-clerical</td>\n      <td>Not-in-family</td>\n      <td>White</td>\n      <td>Male</td>\n      <td>2174</td>\n      <td>0</td>\n      <td>40</td>\n      <td>United-States</td>\n      <td>&lt;=50K</td>\n    </tr>\n    <tr>\n      <th>1</th>\n      <td>50</td>\n      <td>Self-emp-not-inc</td>\n      <td>83311</td>\n      <td>Bachelors</td>\n      <td>13</td>\n      <td>Married-civ-spouse</td>\n      <td>Exec-managerial</td>\n      <td>Husband</td>\n      <td>White</td>\n      <td>Male</td>\n      <td>0</td>\n      <td>0</td>\n      <td>13</td>\n      <td>United-States</td>\n      <td>&lt;=50K</td>\n    </tr>\n    <tr>\n      <th>2</th>\n      <td>38</td>\n      <td>Private</td>\n      <td>215646</td>\n      <td>HS-grad</td>\n      <td>9</td>\n      <td>Divorced</td>\n      <td>Handlers-cleaners</td>\n      <td>Not-in-family</td>\n      <td>White</td>\n      <td>Male</td>\n      <td>0</td>\n      <td>0</td>\n      <td>40</td>\n      <td>United-States</td>\n      <td>&lt;=50K</td>\n    </tr>\n    <tr>\n      <th>3</th>\n      <td>53</td>\n      <td>Private</td>\n      <td>234721</td>\n      <td>11th</td>\n      <td>7</td>\n      <td>Married-civ-spouse</td>\n      <td>Handlers-cleaners</td>\n      <td>Husband</td>\n      <td>Black</td>\n      <td>Male</td>\n      <td>0</td>\n      <td>0</td>\n      <td>40</td>\n      <td>United-States</td>\n      <td>&lt;=50K</td>\n    </tr>\n    <tr>\n      <th>4</th>\n      <td>28</td>\n      <td>Private</td>\n      <td>338409</td>\n      <td>Bachelors</td>\n      <td>13</td>\n      <td>Married-civ-spouse</td>\n      <td>Prof-specialty</td>\n      <td>Wife</td>\n      <td>Black</td>\n      <td>Female</td>\n      <td>0</td>\n      <td>0</td>\n      <td>40</td>\n      <td>Cuba</td>\n      <td>&lt;=50K</td>\n    </tr>\n  </tbody>\n</table>\n</div>"
     },
     "metadata": {},
     "execution_count": 115
    }
   ],
   "source": [
    "adult_data_path = 'raw_adult/adult.data'\n",
    "adult_test_path = 'raw_adult/adult.test'\n",
    "cols = ['age','workclass','fnlwgt','education','education-num','marital-status',\n",
    "        'occupation','relationship','race','sex','capital-gain', 'capital-loss',\n",
    "        'hours-per-week', 'native-country','compensation']\n",
    "a = (pd.read_csv(adult_data_path,\n",
    "                 names=cols,\n",
    "                 sep=', ',\n",
    "                 engine='python')\n",
    "     .append(pd.read_csv(adult_test_path,\n",
    "                         skiprows=1,\n",
    "                         names=cols,\n",
    "                         sep=', ',\n",
    "                         engine='python')))\n",
    "print(a.shape)\n",
    "a.head()"
   ]
  },
  {
   "cell_type": "code",
   "execution_count": 116,
   "metadata": {},
   "outputs": [
    {
     "output_type": "execute_result",
     "data": {
      "text/plain": [
       "   age         workclass  fnlwgt  education  education-num  \\\n",
       "0   39         State-gov   77516  Bachelors             13   \n",
       "1   50  Self-emp-not-inc   83311  Bachelors             13   \n",
       "2   38           Private  215646    HS-grad              9   \n",
       "3   53           Private  234721       11th              7   \n",
       "4   28           Private  338409  Bachelors             13   \n",
       "\n",
       "       marital-status         occupation   relationship   race     sex  \\\n",
       "0       Never-married       Adm-clerical  Not-in-family  White    Male   \n",
       "1  Married-civ-spouse    Exec-managerial        Husband  White    Male   \n",
       "2            Divorced  Handlers-cleaners  Not-in-family  White    Male   \n",
       "3  Married-civ-spouse  Handlers-cleaners        Husband  Black    Male   \n",
       "4  Married-civ-spouse     Prof-specialty           Wife  Black  Female   \n",
       "\n",
       "   capital-gain  capital-loss  weekly-hours native-country compensation  idx  \\\n",
       "0          2174             0            40  United-States        <=50K    0   \n",
       "1             0             0            13  United-States        <=50K    1   \n",
       "2             0             0            40  United-States        <=50K    2   \n",
       "3             0             0            40  United-States        <=50K    3   \n",
       "4             0             0            40           Cuba        <=50K    4   \n",
       "\n",
       "      employment-type  \n",
       "0          Government  \n",
       "1       Self-Employed  \n",
       "2  Privately-Employed  \n",
       "3  Privately-Employed  \n",
       "4  Privately-Employed  "
      ],
      "text/html": "<div>\n<style scoped>\n    .dataframe tbody tr th:only-of-type {\n        vertical-align: middle;\n    }\n\n    .dataframe tbody tr th {\n        vertical-align: top;\n    }\n\n    .dataframe thead th {\n        text-align: right;\n    }\n</style>\n<table border=\"1\" class=\"dataframe\">\n  <thead>\n    <tr style=\"text-align: right;\">\n      <th></th>\n      <th>age</th>\n      <th>workclass</th>\n      <th>fnlwgt</th>\n      <th>education</th>\n      <th>education-num</th>\n      <th>marital-status</th>\n      <th>occupation</th>\n      <th>relationship</th>\n      <th>race</th>\n      <th>sex</th>\n      <th>capital-gain</th>\n      <th>capital-loss</th>\n      <th>weekly-hours</th>\n      <th>native-country</th>\n      <th>compensation</th>\n      <th>idx</th>\n      <th>employment-type</th>\n    </tr>\n  </thead>\n  <tbody>\n    <tr>\n      <th>0</th>\n      <td>39</td>\n      <td>State-gov</td>\n      <td>77516</td>\n      <td>Bachelors</td>\n      <td>13</td>\n      <td>Never-married</td>\n      <td>Adm-clerical</td>\n      <td>Not-in-family</td>\n      <td>White</td>\n      <td>Male</td>\n      <td>2174</td>\n      <td>0</td>\n      <td>40</td>\n      <td>United-States</td>\n      <td>&lt;=50K</td>\n      <td>0</td>\n      <td>Government</td>\n    </tr>\n    <tr>\n      <th>1</th>\n      <td>50</td>\n      <td>Self-emp-not-inc</td>\n      <td>83311</td>\n      <td>Bachelors</td>\n      <td>13</td>\n      <td>Married-civ-spouse</td>\n      <td>Exec-managerial</td>\n      <td>Husband</td>\n      <td>White</td>\n      <td>Male</td>\n      <td>0</td>\n      <td>0</td>\n      <td>13</td>\n      <td>United-States</td>\n      <td>&lt;=50K</td>\n      <td>1</td>\n      <td>Self-Employed</td>\n    </tr>\n    <tr>\n      <th>2</th>\n      <td>38</td>\n      <td>Private</td>\n      <td>215646</td>\n      <td>HS-grad</td>\n      <td>9</td>\n      <td>Divorced</td>\n      <td>Handlers-cleaners</td>\n      <td>Not-in-family</td>\n      <td>White</td>\n      <td>Male</td>\n      <td>0</td>\n      <td>0</td>\n      <td>40</td>\n      <td>United-States</td>\n      <td>&lt;=50K</td>\n      <td>2</td>\n      <td>Privately-Employed</td>\n    </tr>\n    <tr>\n      <th>3</th>\n      <td>53</td>\n      <td>Private</td>\n      <td>234721</td>\n      <td>11th</td>\n      <td>7</td>\n      <td>Married-civ-spouse</td>\n      <td>Handlers-cleaners</td>\n      <td>Husband</td>\n      <td>Black</td>\n      <td>Male</td>\n      <td>0</td>\n      <td>0</td>\n      <td>40</td>\n      <td>United-States</td>\n      <td>&lt;=50K</td>\n      <td>3</td>\n      <td>Privately-Employed</td>\n    </tr>\n    <tr>\n      <th>4</th>\n      <td>28</td>\n      <td>Private</td>\n      <td>338409</td>\n      <td>Bachelors</td>\n      <td>13</td>\n      <td>Married-civ-spouse</td>\n      <td>Prof-specialty</td>\n      <td>Wife</td>\n      <td>Black</td>\n      <td>Female</td>\n      <td>0</td>\n      <td>0</td>\n      <td>40</td>\n      <td>Cuba</td>\n      <td>&lt;=50K</td>\n      <td>4</td>\n      <td>Privately-Employed</td>\n    </tr>\n  </tbody>\n</table>\n</div>"
     },
     "metadata": {},
     "execution_count": 116
    }
   ],
   "source": [
    "a = a.replace({'<=50K.' : '<=50K',\n",
    "               '>50K.'  : '>50K'})\n",
    "\n",
    "# Drop entries where workclass and occupation are unknown, and where workclass is Without-pay.\n",
    "a = (a[(a['workclass']!='?')&\n",
    "       (a['occupation']!='?')&\n",
    "       (a['workclass']!='Without-pay')]\n",
    "     .reset_index(drop=True))\n",
    "a['idx'] = a.index\n",
    "\n",
    "# Map the very small Armed-Forces category of occupation to Protective-serv.\n",
    "a.loc[a['occupation']=='Armed-Forces','occupation'] = 'Protective-serv'\n",
    "\n",
    "# Map Ages, Education, Workclass, and Weekly-Hours to smaller category set.\n",
    "a.loc[a['workclass'].isin(['State-gov', 'Federal-gov', 'Local-gov']), \n",
    "      'employment-type'] = 'Government'\n",
    "a.loc[a['workclass'].isin(['Self-emp-not-inc', 'Self-emp-inc']),      \n",
    "      'employment-type'] = 'Self-Employed'\n",
    "a.loc[a['workclass'].isin(['Private']),                               \n",
    "      'employment-type'] = 'Privately-Employed'\n",
    "\n",
    "# a.loc[a['education-num'] <= 8,          'education'] = 'Less than High School'\n",
    "# a.loc[a['education-num'].isin([ 9,10]), 'education'] = 'High School'\n",
    "# a.loc[a['education-num'].isin([11,12]), 'education'] = 'Associates'\n",
    "# a.loc[a['education-num'].isin([13]),    'education'] = 'Bachelors'\n",
    "# a.loc[a['education-num'].isin([14]),    'education'] = 'Masters'\n",
    "# a.loc[a['education-num'].isin([15,16]), 'education'] = 'PhD/Professional'\n",
    "\n",
    "a = a.rename(columns={'hours-per-week':'weekly-hours'})\n",
    "a.head()"
   ]
  },
  {
   "cell_type": "code",
   "execution_count": 117,
   "metadata": {},
   "outputs": [
    {
     "output_type": "stream",
     "name": "stdout",
     "text": [
      "age [17. 20. 24. 28. 35. 39. 43. 47. 53. 62. 67. 90.]\nweekly-hours [ 1. 20. 32. 40. 45. 50. 60. 70. 99.]\n"
     ]
    },
    {
     "output_type": "execute_result",
     "data": {
      "text/plain": [
       "     age-bin  age raw  weekly-hours-bin  weekly-hours raw\n",
       "0          4       39                 2                40\n",
       "1          7       50                 0                13\n",
       "2          4       38                 2                40\n",
       "3          7       53                 2                40\n",
       "4          2       28                 2                40\n",
       "..       ...      ...               ...               ...\n",
       "195        4       36                 2                36\n",
       "196        3       35                 5                60\n",
       "197        8       58                 2                35\n",
       "198        0       17                 0                12\n",
       "199        6       44                 2                40\n",
       "\n",
       "[200 rows x 4 columns]"
      ],
      "text/html": "<div>\n<style scoped>\n    .dataframe tbody tr th:only-of-type {\n        vertical-align: middle;\n    }\n\n    .dataframe tbody tr th {\n        vertical-align: top;\n    }\n\n    .dataframe thead th {\n        text-align: right;\n    }\n</style>\n<table border=\"1\" class=\"dataframe\">\n  <thead>\n    <tr style=\"text-align: right;\">\n      <th></th>\n      <th>age-bin</th>\n      <th>age raw</th>\n      <th>weekly-hours-bin</th>\n      <th>weekly-hours raw</th>\n    </tr>\n  </thead>\n  <tbody>\n    <tr>\n      <th>0</th>\n      <td>4</td>\n      <td>39</td>\n      <td>2</td>\n      <td>40</td>\n    </tr>\n    <tr>\n      <th>1</th>\n      <td>7</td>\n      <td>50</td>\n      <td>0</td>\n      <td>13</td>\n    </tr>\n    <tr>\n      <th>2</th>\n      <td>4</td>\n      <td>38</td>\n      <td>2</td>\n      <td>40</td>\n    </tr>\n    <tr>\n      <th>3</th>\n      <td>7</td>\n      <td>53</td>\n      <td>2</td>\n      <td>40</td>\n    </tr>\n    <tr>\n      <th>4</th>\n      <td>2</td>\n      <td>28</td>\n      <td>2</td>\n      <td>40</td>\n    </tr>\n    <tr>\n      <th>...</th>\n      <td>...</td>\n      <td>...</td>\n      <td>...</td>\n      <td>...</td>\n    </tr>\n    <tr>\n      <th>195</th>\n      <td>4</td>\n      <td>36</td>\n      <td>2</td>\n      <td>36</td>\n    </tr>\n    <tr>\n      <th>196</th>\n      <td>3</td>\n      <td>35</td>\n      <td>5</td>\n      <td>60</td>\n    </tr>\n    <tr>\n      <th>197</th>\n      <td>8</td>\n      <td>58</td>\n      <td>2</td>\n      <td>35</td>\n    </tr>\n    <tr>\n      <th>198</th>\n      <td>0</td>\n      <td>17</td>\n      <td>0</td>\n      <td>12</td>\n    </tr>\n    <tr>\n      <th>199</th>\n      <td>6</td>\n      <td>44</td>\n      <td>2</td>\n      <td>40</td>\n    </tr>\n  </tbody>\n</table>\n<p>200 rows × 4 columns</p>\n</div>"
     },
     "metadata": {},
     "execution_count": 117
    }
   ],
   "source": [
    "# Bin age and weekly hours using percentiles\n",
    "\n",
    "for var in ['age', 'weekly-hours']:\n",
    "    a[f'{var} raw'] = a[var]\n",
    "    bin_edges = np.unique(np.percentile(a[f'{var} raw'].values, [0,5,15,25,25,45,55,65,75,85,95,97.5,100]))\n",
    "    print(var, bin_edges)\n",
    "\n",
    "    a[f'{var}-bin'] = pd.cut(a[f'{var} raw'], bins=bin_edges, include_lowest=True, labels=False)\n",
    "\n",
    "    # plt.figure()\n",
    "    # plt.hist(a[f'{var} raw'].values)\n",
    "    \n",
    "a[[\"age-bin\",\"age raw\", \"weekly-hours-bin\", \"weekly-hours raw\"]].head(200)"
   ]
  },
  {
   "cell_type": "code",
   "execution_count": 118,
   "metadata": {},
   "outputs": [
    {
     "output_type": "stream",
     "name": "stdout",
     "text": [
      "               idx\nsex sex raw       \n0   Female   14912\n1   Male     31100\n                                 idx\ncompensation compensation raw       \n0            <=50K             34592\n1            >50K              11420\n                                   idx\neducation-num education-num raw       \n0             1                     73\n1             2                    229\n2             3                    468\n3             4                    842\n4             5                    687\n5             6                   1239\n6             7                   1631\n7             8                    599\n8             9                  14958\n9             10                 10033\n10            11                  1978\n11            12                  1527\n12            13                  7772\n13            14                  2590\n14            15                   810\n15            16                   576\n                                       idx\nemployment-type employment-type raw       \n0               Government            6549\n1               Privately-Employed   33906\n2               Self-Employed         5557\n                               idx\noccupation occupation raw         \n0          Adm-clerical       5608\n1          Craft-repair       6111\n2          Exec-managerial    6085\n3          Farming-fishing    1482\n4          Handlers-cleaners  2070\n5          Machine-op-inspct  3020\n6          Other-service      4921\n7          Priv-house-serv     242\n8          Prof-specialty     6172\n9          Protective-serv     998\n10         Sales              5503\n11         Tech-support       1446\n12         Transport-moving   2354\n                           idx\nrace race raw                 \n0    Amer-Indian-Eskimo    435\n1    Asian-Pac-Islander   1422\n2    Black                4355\n3    Other                 375\n4    White               39425\n(46012, 9)\n"
     ]
    }
   ],
   "source": [
    "# Convert remaining categorical columns to numerical labels\n",
    "\n",
    "VARS = ['sex', 'compensation', 'education-num'] # Always do these\n",
    "ONE_HOT = False\n",
    "if not ONE_HOT: VARS += ['employment-type', 'occupation', 'race'] # Do these if *not* doing one-hot encoding\n",
    "\n",
    "for var in VARS:\n",
    "       a[f'{var} raw'] = a[var]\n",
    "       a[var] = a[var].astype('category')\n",
    "       a[var] = a[var].cat.codes\n",
    "       print(a[[var,f'{var} raw','idx']].groupby([var, f'{var} raw']).count())\n",
    "\n",
    "a = a[['idx',\n",
    "       # 'age',\n",
    "       'age-bin',\n",
    "       'employment-type',\n",
    "       # 'education',\n",
    "       'education-num',\n",
    "       'occupation',\n",
    "       'race',\n",
    "       'sex',\n",
    "       # 'weekly-hours',\n",
    "       'weekly-hours-bin',\n",
    "       'compensation']].copy()\n",
    "print(a.shape)"
   ]
  },
  {
   "cell_type": "code",
   "execution_count": 119,
   "metadata": {},
   "outputs": [
    {
     "output_type": "execute_result",
     "data": {
      "text/plain": [
       "   idx  age-bin  employment-type  education-num  occupation  race  sex  \\\n",
       "0    0        4                0             12           0     4    1   \n",
       "1    1        7                2             12           2     4    1   \n",
       "2    2        4                1              8           4     4    1   \n",
       "3    3        7                1              6           4     2    1   \n",
       "4    4        2                1             12           8     2    0   \n",
       "\n",
       "   weekly-hours-bin  compensation  \n",
       "0                 2             0  \n",
       "1                 0             0  \n",
       "2                 2             0  \n",
       "3                 2             0  \n",
       "4                 2             0  "
      ],
      "text/html": "<div>\n<style scoped>\n    .dataframe tbody tr th:only-of-type {\n        vertical-align: middle;\n    }\n\n    .dataframe tbody tr th {\n        vertical-align: top;\n    }\n\n    .dataframe thead th {\n        text-align: right;\n    }\n</style>\n<table border=\"1\" class=\"dataframe\">\n  <thead>\n    <tr style=\"text-align: right;\">\n      <th></th>\n      <th>idx</th>\n      <th>age-bin</th>\n      <th>employment-type</th>\n      <th>education-num</th>\n      <th>occupation</th>\n      <th>race</th>\n      <th>sex</th>\n      <th>weekly-hours-bin</th>\n      <th>compensation</th>\n    </tr>\n  </thead>\n  <tbody>\n    <tr>\n      <th>0</th>\n      <td>0</td>\n      <td>4</td>\n      <td>0</td>\n      <td>12</td>\n      <td>0</td>\n      <td>4</td>\n      <td>1</td>\n      <td>2</td>\n      <td>0</td>\n    </tr>\n    <tr>\n      <th>1</th>\n      <td>1</td>\n      <td>7</td>\n      <td>2</td>\n      <td>12</td>\n      <td>2</td>\n      <td>4</td>\n      <td>1</td>\n      <td>0</td>\n      <td>0</td>\n    </tr>\n    <tr>\n      <th>2</th>\n      <td>2</td>\n      <td>4</td>\n      <td>1</td>\n      <td>8</td>\n      <td>4</td>\n      <td>4</td>\n      <td>1</td>\n      <td>2</td>\n      <td>0</td>\n    </tr>\n    <tr>\n      <th>3</th>\n      <td>3</td>\n      <td>7</td>\n      <td>1</td>\n      <td>6</td>\n      <td>4</td>\n      <td>2</td>\n      <td>1</td>\n      <td>2</td>\n      <td>0</td>\n    </tr>\n    <tr>\n      <th>4</th>\n      <td>4</td>\n      <td>2</td>\n      <td>1</td>\n      <td>12</td>\n      <td>8</td>\n      <td>2</td>\n      <td>0</td>\n      <td>2</td>\n      <td>0</td>\n    </tr>\n  </tbody>\n</table>\n</div>"
     },
     "metadata": {},
     "execution_count": 119
    }
   ],
   "source": [
    "a.head()"
   ]
  },
  {
   "cell_type": "code",
   "execution_count": 46,
   "metadata": {},
   "outputs": [
    {
     "output_type": "execute_result",
     "data": {
      "text/plain": [
       "   idx  age  employment-type  education-num  occupation  race  sex  \\\n",
       "0    0   39                0             13           0     4    1   \n",
       "1    1   50                2             13           2     4    1   \n",
       "2    2   38                1              9           4     4    1   \n",
       "3    3   53                1              7           4     2    1   \n",
       "4    4   28                1             13           8     2    0   \n",
       "\n",
       "   weekly-hours  compensation  \n",
       "0            40             0  \n",
       "1            13             0  \n",
       "2            40             0  \n",
       "3            40             0  \n",
       "4            40             0  "
      ],
      "text/html": "<div>\n<style scoped>\n    .dataframe tbody tr th:only-of-type {\n        vertical-align: middle;\n    }\n\n    .dataframe tbody tr th {\n        vertical-align: top;\n    }\n\n    .dataframe thead th {\n        text-align: right;\n    }\n</style>\n<table border=\"1\" class=\"dataframe\">\n  <thead>\n    <tr style=\"text-align: right;\">\n      <th></th>\n      <th>idx</th>\n      <th>age</th>\n      <th>employment-type</th>\n      <th>education-num</th>\n      <th>occupation</th>\n      <th>race</th>\n      <th>sex</th>\n      <th>weekly-hours</th>\n      <th>compensation</th>\n    </tr>\n  </thead>\n  <tbody>\n    <tr>\n      <th>0</th>\n      <td>0</td>\n      <td>39</td>\n      <td>0</td>\n      <td>13</td>\n      <td>0</td>\n      <td>4</td>\n      <td>1</td>\n      <td>40</td>\n      <td>0</td>\n    </tr>\n    <tr>\n      <th>1</th>\n      <td>1</td>\n      <td>50</td>\n      <td>2</td>\n      <td>13</td>\n      <td>2</td>\n      <td>4</td>\n      <td>1</td>\n      <td>13</td>\n      <td>0</td>\n    </tr>\n    <tr>\n      <th>2</th>\n      <td>2</td>\n      <td>38</td>\n      <td>1</td>\n      <td>9</td>\n      <td>4</td>\n      <td>4</td>\n      <td>1</td>\n      <td>40</td>\n      <td>0</td>\n    </tr>\n    <tr>\n      <th>3</th>\n      <td>3</td>\n      <td>53</td>\n      <td>1</td>\n      <td>7</td>\n      <td>4</td>\n      <td>2</td>\n      <td>1</td>\n      <td>40</td>\n      <td>0</td>\n    </tr>\n    <tr>\n      <th>4</th>\n      <td>4</td>\n      <td>28</td>\n      <td>1</td>\n      <td>13</td>\n      <td>8</td>\n      <td>2</td>\n      <td>0</td>\n      <td>40</td>\n      <td>0</td>\n    </tr>\n  </tbody>\n</table>\n</div>"
     },
     "metadata": {},
     "execution_count": 46
    }
   ],
   "source": [
    "if ONE_HOT:\n",
    "    # One-hot encoding of categorical variables.\n",
    "    print(a.shape)\n",
    "    a = pd.get_dummies(a, columns=['employment-type', 'occupation', 'race'], drop_first=False)\n",
    "    print(a.shape)\n",
    "a.head()"
   ]
  },
  {
   "cell_type": "code",
   "execution_count": 120,
   "metadata": {},
   "outputs": [],
   "source": [
    "# Move compensation to the end.\n",
    "_c = a.pop('compensation') \n",
    "a['compensation'] = _c\n",
    "\n",
    "a.to_csv(f\"adult{'_one_hot' if ONE_HOT else ''}.csv\", index=False)"
   ]
  },
  {
   "cell_type": "markdown",
   "metadata": {},
   "source": [
    "---\n",
    "### Don't do these ones."
   ]
  },
  {
   "cell_type": "code",
   "execution_count": 5,
   "metadata": {},
   "outputs": [
    {
     "output_type": "stream",
     "name": "stdout",
     "text": [
      "   Mean Age = 38.55261670868469\nStd Dev Age = 13.199319129893762\n   Mean Weekly-Hours = 40.95159958271755\nStd Dev Weekly-Hours = 12.00779742417576\n"
     ]
    },
    {
     "output_type": "execute_result",
     "data": {
      "text/plain": [
       "   idx       age  employment-type  education  occupation  race     sex  \\\n",
       "0    0  0.033894                0          1           0     4    Male   \n",
       "1    1  0.867271                2          1           2     4    Male   \n",
       "2    2 -0.041867                1          2           4     4    Male   \n",
       "3    3  1.094555                1          3           4     2    Male   \n",
       "4    4 -0.799482                1          1           8     2  Female   \n",
       "\n",
       "   weekly-hours  compensation  \n",
       "0     -0.079248             0  \n",
       "1     -2.327787             0  \n",
       "2     -0.079248             0  \n",
       "3     -0.079248             0  \n",
       "4     -0.079248             0  "
      ],
      "text/html": "<div>\n<style scoped>\n    .dataframe tbody tr th:only-of-type {\n        vertical-align: middle;\n    }\n\n    .dataframe tbody tr th {\n        vertical-align: top;\n    }\n\n    .dataframe thead th {\n        text-align: right;\n    }\n</style>\n<table border=\"1\" class=\"dataframe\">\n  <thead>\n    <tr style=\"text-align: right;\">\n      <th></th>\n      <th>idx</th>\n      <th>age</th>\n      <th>employment-type</th>\n      <th>education</th>\n      <th>occupation</th>\n      <th>race</th>\n      <th>sex</th>\n      <th>weekly-hours</th>\n      <th>compensation</th>\n    </tr>\n  </thead>\n  <tbody>\n    <tr>\n      <th>0</th>\n      <td>0</td>\n      <td>0.033894</td>\n      <td>0</td>\n      <td>1</td>\n      <td>0</td>\n      <td>4</td>\n      <td>Male</td>\n      <td>-0.079248</td>\n      <td>0</td>\n    </tr>\n    <tr>\n      <th>1</th>\n      <td>1</td>\n      <td>0.867271</td>\n      <td>2</td>\n      <td>1</td>\n      <td>2</td>\n      <td>4</td>\n      <td>Male</td>\n      <td>-2.327787</td>\n      <td>0</td>\n    </tr>\n    <tr>\n      <th>2</th>\n      <td>2</td>\n      <td>-0.041867</td>\n      <td>1</td>\n      <td>2</td>\n      <td>4</td>\n      <td>4</td>\n      <td>Male</td>\n      <td>-0.079248</td>\n      <td>0</td>\n    </tr>\n    <tr>\n      <th>3</th>\n      <td>3</td>\n      <td>1.094555</td>\n      <td>1</td>\n      <td>3</td>\n      <td>4</td>\n      <td>2</td>\n      <td>Male</td>\n      <td>-0.079248</td>\n      <td>0</td>\n    </tr>\n    <tr>\n      <th>4</th>\n      <td>4</td>\n      <td>-0.799482</td>\n      <td>1</td>\n      <td>1</td>\n      <td>8</td>\n      <td>2</td>\n      <td>Female</td>\n      <td>-0.079248</td>\n      <td>0</td>\n    </tr>\n  </tbody>\n</table>\n</div>"
     },
     "metadata": {},
     "execution_count": 5
    }
   ],
   "source": [
    "# Normalize Continuous Data.\n",
    "print('   Mean Age = ' + str(a['age'].mean()))\n",
    "print('Std Dev Age = ' + str(a['age'].std()))\n",
    "a['age'] = (a['age'] - a['age'].mean()) / a['age'].std()\n",
    "\n",
    "print('   Mean Weekly-Hours = ' + str(a['weekly-hours'].mean()))\n",
    "print('Std Dev Weekly-Hours = ' + str(a['weekly-hours'].std()))\n",
    "a['weekly-hours'] = (a['weekly-hours'] - a['weekly-hours'].mean()) / a['weekly-hours'].std()\n",
    "a.head()\n"
   ]
  }
 ]
}