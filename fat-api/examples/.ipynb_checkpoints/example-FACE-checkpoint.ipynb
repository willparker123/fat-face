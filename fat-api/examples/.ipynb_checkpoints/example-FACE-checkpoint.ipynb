{
 "cells": [
  {
   "cell_type": "code",
   "execution_count": 1,
   "metadata": {},
   "outputs": [
    {
     "ename": "SyntaxError",
     "evalue": "invalid syntax (<ipython-input-1-66d788092ae6>, line 34)",
     "output_type": "error",
     "traceback": [
      "\u001b[0;36m  File \u001b[0;32m\"<ipython-input-1-66d788092ae6>\"\u001b[0;36m, line \u001b[0;32m34\u001b[0m\n\u001b[0;31m    face_method = FACEMethod(factuals=data=data_X.get_rows_as_data(row_indicies), factuals_target=data_y.get_rows_as_data(row_indicies), model=face_model, kernel_type=\"KDE\", t_distance=0.3, t_prediction=0.5, t_density=0.01, conditions=conditionf)\u001b[0m\n\u001b[0m                                          ^\u001b[0m\n\u001b[0;31mSyntaxError\u001b[0m\u001b[0;31m:\u001b[0m invalid syntax\n"
     ]
    }
   ],
   "source": [
    "import os\n",
    "import sys\n",
    "import inspect\n",
    "\n",
    "sys.path.insert(1, os.path.join(sys.path[0], '..'))\n",
    "\n",
    "import fatapi\n",
    "from fatapi.data import Data\n",
    "from fatapi.model import BlackBox, Model\n",
    "from fatapi.methods import FACEMethod\n",
    "from sklearn.neural_network import MLPClassifier\n",
    "from sklearn.datasets import make_classification\n",
    "from sklearn.model_selection import train_test_split\n",
    "\n",
    "X, y = make_classification(n_samples=100, random_state=1)\n",
    "X_train, X_test, y_train, y_test = train_test_split(X, y, stratify=y, random_state=1)\n",
    "clf = MLPClassifier(random_state=1, max_iter=300).fit(X_train, y_train)\n",
    "\n",
    "clf.predict_proba(X_test[:1])\n",
    "print(clf.predict(X_test[:5, :]))\n",
    "clf.score(X_test, y_test)\n",
    "print(X_test.shape)\n",
    "print(y_test.shape)\n",
    "data_X = Data(dataset=X_test, dtype=\"data\", encoded=True)\n",
    "data_y = Data(dataset=y_test, dtype=\"target\", encoded=True)\n",
    "\n",
    "# Has to return a boolean \n",
    "def conditionf(X1, X2, Y1, Y2):\n",
    "    return True\n",
    "\n",
    "row_indicies = [0,1,2,3,4]\n",
    "blackb = BlackBox(clf)\n",
    "face_model = Model(data_X, data_y, blackbox=blackb)\n",
    "face_method = FACEMethod(factuals=data_X.get_rows_as_data(row_indicies), factuals_target=data_y.get_rows_as_data(row_indicies), model=face_model, kernel_type=\"KDE\", t_distance=0.3, t_prediction=0.5, t_density=0.01, conditions=conditionf)\n",
    "print(face_method.explain())"
   ]
  },
  {
   "cell_type": "code",
   "execution_count": null,
   "metadata": {},
   "outputs": [],
   "source": []
  }
 ],
 "metadata": {
  "interpreter": {
   "hash": "b3ba2566441a7c06988d0923437866b63cedc61552a5af99d1f4fb67d367b25f"
  },
  "kernelspec": {
   "display_name": "Python 3",
   "language": "python",
   "name": "python3"
  },
  "language_info": {
   "codemirror_mode": {
    "name": "ipython",
    "version": 3
   },
   "file_extension": ".py",
   "mimetype": "text/x-python",
   "name": "python",
   "nbconvert_exporter": "python",
   "pygments_lexer": "ipython3",
   "version": "3.8.10"
  }
 },
 "nbformat": 4,
 "nbformat_minor": 5
}
