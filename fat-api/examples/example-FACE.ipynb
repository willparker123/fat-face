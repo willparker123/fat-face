{
 "cells": [
  {
   "cell_type": "code",
   "execution_count": 1,
   "metadata": {},
   "outputs": [
    {
     "ename": "IndentationError",
     "evalue": "expected an indented block (face.py, line 238)",
     "output_type": "error",
     "traceback": [
      "Traceback \u001b[0;36m(most recent call last)\u001b[0m:\n",
      "  File \u001b[1;32m\"/usr/lib/python3/dist-packages/IPython/core/interactiveshell.py\"\u001b[0m, line \u001b[1;32m3331\u001b[0m, in \u001b[1;35mrun_code\u001b[0m\n    exec(code_obj, self.user_global_ns, self.user_ns)\n",
      "  File \u001b[1;32m\"<ipython-input-1-66a1a3401b44>\"\u001b[0m, line \u001b[1;32m10\u001b[0m, in \u001b[1;35m<module>\u001b[0m\n    from fatapi.methods import FACEMethod\n",
      "\u001b[0;36m  File \u001b[0;32m\"/mnt/c/Users/will/Videos/HCAI/fat-face/fat-api/examples/../fatapi/methods/__init__.py\"\u001b[0;36m, line \u001b[0;32m5\u001b[0;36m, in \u001b[0;35m<module>\u001b[0;36m\u001b[0m\n\u001b[0;31m    from .face import FACEMethod\u001b[0m\n",
      "\u001b[0;36m  File \u001b[0;32m\"/mnt/c/Users/will/Videos/HCAI/fat-face/fat-api/examples/../fatapi/methods/face.py\"\u001b[0;36m, line \u001b[0;32m238\u001b[0m\n\u001b[0;31m    if self.kernel_type==\"kde\":\u001b[0m\n\u001b[0m    ^\u001b[0m\n\u001b[0;31mIndentationError\u001b[0m\u001b[0;31m:\u001b[0m expected an indented block\n"
     ]
    }
   ],
   "source": [
    "import os\n",
    "import sys\n",
    "import inspect\n",
    "\n",
    "sys.path.insert(1, os.path.join(sys.path[0], '..'))\n",
    "\n",
    "import fatapi\n",
    "from fatapi.data import Data\n",
    "from fatapi.model import BlackBox, Model\n",
    "from fatapi.methods import FACEMethod\n",
    "from sklearn.neural_network import MLPClassifier\n",
    "from sklearn.datasets import make_classification\n",
    "from sklearn.model_selection import train_test_split\n",
    "\n",
    "X, y = make_classification(n_samples=100, random_state=1)\n",
    "X_train, X_test, y_train, y_test = train_test_split(X, y, stratify=y, random_state=1)\n",
    "clf = MLPClassifier(random_state=1, max_iter=300).fit(X_train, y_train)\n",
    "\n",
    "clf.predict_proba(X_test[:1])\n",
    "print(clf.predict(X_test[:5, :]))\n",
    "clf.score(X_test, y_test)\n",
    "print(X_test.shape)\n",
    "print(y_test.shape)\n",
    "data_X = Data(dataset=X_test, dtype=\"data\")\n",
    "data_y = Data(dataset=y_test, dtype=\"target\")\n",
    "\n",
    "# Has to return a boolean \n",
    "def conditionf(X1, X2, Y1, Y2):\n",
    "    return True\n",
    "\n",
    "row_indicies = [0,1,2,3,4]\n",
    "blackb = BlackBox(clf)\n",
    "face_model = Model(data_X, data_y, blackb)\n",
    "face_method = FACEMethod(data_X.get_rows_as_data(row_indicies), data_y.get_rows_as_data(row_indicies), model=face_model, kernel_type=\"KDE\", t_distance=0.3, t_prediction=0.5, t_density=0.01, conditions=conditionf)\n",
    "print(face_method.explain())"
   ]
  },
  {
   "cell_type": "code",
   "execution_count": null,
   "metadata": {},
   "outputs": [],
   "source": []
  }
 ],
 "metadata": {
  "interpreter": {
   "hash": "b3ba2566441a7c06988d0923437866b63cedc61552a5af99d1f4fb67d367b25f"
  },
  "kernelspec": {
   "display_name": "Python 3",
   "language": "python",
   "name": "python3"
  },
  "language_info": {
   "codemirror_mode": {
    "name": "ipython",
    "version": 3
   },
   "file_extension": ".py",
   "mimetype": "text/x-python",
   "name": "python",
   "nbconvert_exporter": "python",
   "pygments_lexer": "ipython3",
   "version": "3.8.10"
  }
 },
 "nbformat": 4,
 "nbformat_minor": 5
}
