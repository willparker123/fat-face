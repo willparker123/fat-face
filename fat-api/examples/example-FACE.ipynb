{
 "cells": [
  {
   "cell_type": "code",
   "execution_count": null,
   "metadata": {},
   "outputs": [],
   "source": [
    "import os\r\n",
    "import sys\r\n",
    "import inspect\r\n",
    "\r\n",
    "sys.path.insert(1, os.path.join(sys.path[0], '..'))\r\n",
    "\r\n",
    "import fatapi\r\n",
    "from fatapi.data import Data\r\n",
    "from fatapi.model import BlackBox, Model\r\n",
    "from fatapi.methods import FACEMethod\r\n",
    "from sklearn.neural_network import MLPClassifier\r\n",
    "from sklearn.datasets import make_classification\r\n",
    "from sklearn.model_selection import train_test_split\r\n",
    "\r\n",
    "X, y = make_classification(n_samples=100, random_state=1)\r\n",
    "X_train, X_test, y_train, y_test = train_test_split(X, y, stratify=y, random_state=1)\r\n",
    "clf = MLPClassifier(random_state=1, max_iter=300).fit(X_train, y_train)\r\n",
    "\r\n",
    "clf.predict_proba(X_test[:1])\r\n",
    "print(clf.predict(X_test[:5, :]))\r\n",
    "clf.score(X_test, y_test)\r\n",
    "print(X_test.shape)\r\n",
    "print(y_test.shape)\r\n",
    "data_X = Data(dataset=X_test, dtype=\"data\")\r\n",
    "data_y = Data(dataset=y_test, dtype=\"target\")\r\n",
    "\r\n",
    "# Has to return a boolean \r\n",
    "def conditionf(X1, X2, Y1, Y2):\r\n",
    "    return True\r\n",
    "\r\n",
    "row_indicies = [0,1,2,3,4]\r\n",
    "blackb = BlackBox(clf)\r\n",
    "face_model = Model(data_X, data_y, blackb)\r\n",
    "face_method = FACEMethod(data_X.get_rows_as_data(row_indicies), data_y.get_rows_as_data(row_indicies), model=face_model, kernel_type=\"KDE\", t_distance=0.3, t_prediction=0.5, t_density=0.01, conditions=conditionf)\r\n",
    "print(face_method.explain())"
   ]
  },
  {
   "cell_type": "code",
   "execution_count": null,
   "metadata": {},
   "outputs": [],
   "source": []
  }
 ],
 "metadata": {
  "interpreter": {
   "hash": "b3ba2566441a7c06988d0923437866b63cedc61552a5af99d1f4fb67d367b25f"
  },
  "kernelspec": {
   "display_name": "Python 3",
   "language": "python",
   "name": "python3"
  },
  "language_info": {
   "codemirror_mode": {
    "name": "ipython",
    "version": 3
   },
   "file_extension": ".py",
   "mimetype": "text/x-python",
   "name": "python",
   "nbconvert_exporter": "python",
   "pygments_lexer": "ipython3",
   "version": "3.8.10"
  }
 },
 "nbformat": 4,
 "nbformat_minor": 5
}