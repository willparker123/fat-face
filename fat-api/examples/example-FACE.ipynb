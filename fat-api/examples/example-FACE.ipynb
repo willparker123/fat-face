{
 "cells": [
  {
   "cell_type": "code",
   "execution_count": null,
   "source": [
    "import fatapi\r\n",
    "from fatapi.model import Model, BlackBox\r\n",
    "from fatapi.data import Data\r\n",
    "from sklearn.neural_network import MLPClassifier\r\n",
    "from sklearn.datasets import make_classification\r\n",
    "from sklearn.model_selection import train_test_split\r\n",
    "\r\n",
    "X, y = make_classification(n_samples=100, random_state=1)\r\n",
    "X_train, X_test, y_train, y_test = train_test_split(X, y, stratify=y, random_state=1)\r\n",
    "clf = MLPClassifier(random_state=1, max_iter=300).fit(X_train, y_train)\r\n",
    "clf.predict_proba(X_test[:1])\r\n",
    "clf.predict(X_test[:5, :])\r\n",
    "clf.score(X_test, y_test)\r\n",
    "\r\n",
    "data_X = Data(X_test, type=\"data\")\r\n",
    "data_y = Data(y_test, type=\"target\")\r\n",
    "blackb = BlackBox(clf)\r\n",
    "face_model = Model(data_X, data_y, blackb)"
   ],
   "outputs": [],
   "metadata": {}
  }
 ],
 "metadata": {
  "kernelspec": {
   "display_name": "Python 3 (ipykernel)",
   "language": "python",
   "name": "python3"
  },
  "language_info": {
   "codemirror_mode": {
    "name": "ipython",
    "version": 3
   },
   "file_extension": ".py",
   "mimetype": "text/x-python",
   "name": "python",
   "nbconvert_exporter": "python",
   "pygments_lexer": "ipython3",
   "version": "3.7.11"
  }
 },
 "nbformat": 4,
 "nbformat_minor": 5
}