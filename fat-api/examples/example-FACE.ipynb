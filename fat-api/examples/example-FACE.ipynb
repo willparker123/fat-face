{
 "cells": [
  {
   "cell_type": "code",
   "execution_count": 1,
   "id": "0011f767",
   "metadata": {},
   "outputs": [
    {
     "name": "stdout",
     "output_type": "stream",
     "text": [
      "The history saving thread hit an unexpected error (DatabaseError('database disk image is malformed')).History will not be written to the database.\n",
      "Predicted classes of X_test[:5, :]: [1 0 1 0 1]\n",
      "Classification accuracy: 0.88\n",
      "\n"
     ]
    },
    {
     "ename": "ValueError",
     "evalue": "Invalid argument in __init__: Data: [[ 6.06548400e-01  8.16957655e-01  1.05132077e+00  1.65712464e+00\n  -4.59717681e-01 -5.88963928e-01  6.50323214e-01  5.03170861e-02\n   1.70548352e+00  1.41767401e+00 -7.37289628e-01  3.09816759e-01\n   7.78174179e-01 -1.12478707e+00 -1.28393266e+00  8.07509886e-02\n   9.49961101e-02 -3.64538050e-01  1.64665066e-01 -7.67803746e-01]\n [-2.90545028e-03 -1.18951588e+00 -2.92578935e-01  1.49640531e+00\n  -1.20115566e+00 -9.55756520e-02  5.37705087e-01 -3.48471140e-01\n  -2.99094967e-01  1.67072922e+00 -6.06303023e-02  3.29489967e-01\n   4.40956001e-01  3.83606926e-01  8.56514986e-01 -2.82005902e-01\n   8.15600360e-01  2.19477494e-01  9.64022632e-01  4.99224881e-02]\n [-2.79144404e+00  1.06080576e+00 -2.26261533e+00  4.89219194e-01\n   2.09012280e-01  7.90061048e-01  2.02447357e-01  1.52186577e+00\n  -1.76440808e+00 -1.11683226e+00  2.00556158e+00 -1.76936557e-01\n   1.55356522e+00  5.85308978e-01 -1.47841532e-02 -1.22606996e+00\n  -4.19717870e-01 -4.82726862e-01  4.52713622e-01 -3.84824623e-02]\n [-2.51852197e-01  3.29535191e-01 -3.01603199e+00  3.00253676e-01\n   1.16533544e+00  1.12643073e+00 -2.19552167e-01  8.05913307e-01\n   1.96645295e-01 -4.29595674e-01 -1.32648965e+00  1.00819561e+00\n   1.11548937e+00  1.34104147e+00  9.31688688e-01  2.00514053e+00\n  -1.61964569e+00 -1.48941229e-01  3.08204134e-01 -1.87626349e-01]\n [-9.77773002e-01  1.11298159e+00 -3.69255902e-01  1.00568668e+00\n   1.06032751e+00 -3.27882802e-01 -3.48984191e-01  6.14726276e-01\n  -1.71116766e+00  3.53567216e-01  1.71957132e-01 -5.22356465e-01\n  -1.39528303e+00 -9.08018711e-01 -1.24490005e+00 -2.60466059e-01\n   2.65642403e-01  9.81122462e-02  4.90561044e-01  4.45096710e-01]], Categoricals: [], Numericals: [0, 1, 2, 3, 4, 5, 6, 7, 8, 9, 10, 11, 12, 13, 14, 15, 16, 17, 18, 19], IsEncoded: True is not of type <class 'numpy.ndarray'>",
     "output_type": "error",
     "traceback": [
      "\u001b[0;31m---------------------------------------------------------------------------\u001b[0m",
      "\u001b[0;31mValueError\u001b[0m                                Traceback (most recent call last)",
      "\u001b[0;32m/tmp/ipykernel_3123/3505361086.py\u001b[0m in \u001b[0;36m<module>\u001b[0;34m\u001b[0m\n\u001b[1;32m     43\u001b[0m \u001b[0mfactuals_target\u001b[0m \u001b[0;34m=\u001b[0m \u001b[0mdata_y\u001b[0m\u001b[0;34m.\u001b[0m\u001b[0mget_rows_as_data\u001b[0m\u001b[0;34m(\u001b[0m\u001b[0mrow_indicies\u001b[0m\u001b[0;34m)\u001b[0m\u001b[0;34m\u001b[0m\u001b[0;34m\u001b[0m\u001b[0m\n\u001b[1;32m     44\u001b[0m \u001b[0;34m\u001b[0m\u001b[0m\n\u001b[0;32m---> 45\u001b[0;31m face_method = FACEMethod(factuals=factuals, \n\u001b[0m\u001b[1;32m     46\u001b[0m                          \u001b[0mfactuals_target\u001b[0m\u001b[0;34m=\u001b[0m\u001b[0mfactuals_target\u001b[0m\u001b[0;34m,\u001b[0m\u001b[0;34m\u001b[0m\u001b[0;34m\u001b[0m\u001b[0m\n\u001b[1;32m     47\u001b[0m                          \u001b[0mmodel\u001b[0m\u001b[0;34m=\u001b[0m\u001b[0mface_model\u001b[0m\u001b[0;34m,\u001b[0m \u001b[0mkernel_type\u001b[0m\u001b[0;34m=\u001b[0m\u001b[0;34m\"kde\"\u001b[0m\u001b[0;34m,\u001b[0m\u001b[0;34m\u001b[0m\u001b[0;34m\u001b[0m\u001b[0m\n",
      "\u001b[0;32m/mnt/c/Users/willi/Videos/Work/HCAI/fat-face/fat-api/examples/../fatapi/methods/face.py\u001b[0m in \u001b[0;36m__init__\u001b[0;34m(self, *args, **kwargs)\u001b[0m\n\u001b[1;32m    115\u001b[0m             \u001b[0mprint\u001b[0m\u001b[0;34m(\u001b[0m\u001b[0;34m\"Warning in __init__: factuals and factuals_target not supplied - need to provide factuals and factuals_target to explain()\"\u001b[0m\u001b[0;34m)\u001b[0m\u001b[0;34m\u001b[0m\u001b[0;34m\u001b[0m\u001b[0m\n\u001b[1;32m    116\u001b[0m         \u001b[0;32melse\u001b[0m\u001b[0;34m:\u001b[0m\u001b[0;34m\u001b[0m\u001b[0;34m\u001b[0m\u001b[0m\n\u001b[0;32m--> 117\u001b[0;31m             \u001b[0mself\u001b[0m\u001b[0;34m.\u001b[0m\u001b[0m_factuals\u001b[0m \u001b[0;34m=\u001b[0m \u001b[0mcheck_type\u001b[0m\u001b[0;34m(\u001b[0m\u001b[0mkwargs\u001b[0m\u001b[0;34m.\u001b[0m\u001b[0mget\u001b[0m\u001b[0;34m(\u001b[0m\u001b[0;34m\"factuals\"\u001b[0m\u001b[0;34m)\u001b[0m\u001b[0;34m,\u001b[0m \u001b[0;34m\"__init__\"\u001b[0m\u001b[0;34m,\u001b[0m \u001b[0mnp\u001b[0m\u001b[0;34m.\u001b[0m\u001b[0mndarray\u001b[0m\u001b[0;34m)\u001b[0m\u001b[0;34m\u001b[0m\u001b[0;34m\u001b[0m\u001b[0m\n\u001b[0m\u001b[1;32m    118\u001b[0m             \u001b[0mself\u001b[0m\u001b[0;34m.\u001b[0m\u001b[0m_factuals_target\u001b[0m \u001b[0;34m=\u001b[0m \u001b[0mcheck_type\u001b[0m\u001b[0;34m(\u001b[0m\u001b[0mkwargs\u001b[0m\u001b[0;34m.\u001b[0m\u001b[0mget\u001b[0m\u001b[0;34m(\u001b[0m\u001b[0;34m\"factuals_target\"\u001b[0m\u001b[0;34m)\u001b[0m\u001b[0;34m,\u001b[0m \u001b[0;34m\"__init__\"\u001b[0m\u001b[0;34m,\u001b[0m \u001b[0mnp\u001b[0m\u001b[0;34m.\u001b[0m\u001b[0mndarray\u001b[0m\u001b[0;34m)\u001b[0m\u001b[0;34m\u001b[0m\u001b[0;34m\u001b[0m\u001b[0m\n\u001b[1;32m    119\u001b[0m         \u001b[0;32mif\u001b[0m \u001b[0;32mnot\u001b[0m \u001b[0;34m(\u001b[0m\u001b[0;34m'kernel'\u001b[0m \u001b[0;32min\u001b[0m \u001b[0mkwargs\u001b[0m \u001b[0;32mor\u001b[0m \u001b[0;34m'kernel_type'\u001b[0m \u001b[0;32min\u001b[0m \u001b[0mkwargs\u001b[0m\u001b[0;34m)\u001b[0m\u001b[0;34m:\u001b[0m\u001b[0;34m\u001b[0m\u001b[0;34m\u001b[0m\u001b[0m\n",
      "\u001b[0;32m/mnt/c/Users/willi/Videos/Work/HCAI/fat-face/fat-api/examples/../fatapi/helpers/helpers.py\u001b[0m in \u001b[0;36mcheck_type\u001b[0;34m(arg, func, *types)\u001b[0m\n\u001b[1;32m     30\u001b[0m         \u001b[0;32mreturn\u001b[0m \u001b[0marg\u001b[0m\u001b[0;34m\u001b[0m\u001b[0;34m\u001b[0m\u001b[0m\n\u001b[1;32m     31\u001b[0m     \u001b[0;32melse\u001b[0m\u001b[0;34m:\u001b[0m\u001b[0;34m\u001b[0m\u001b[0;34m\u001b[0m\u001b[0m\n\u001b[0;32m---> 32\u001b[0;31m         \u001b[0;32mraise\u001b[0m \u001b[0mValueError\u001b[0m\u001b[0;34m(\u001b[0m\u001b[0merr\u001b[0m\u001b[0;34m)\u001b[0m\u001b[0;34m\u001b[0m\u001b[0;34m\u001b[0m\u001b[0m\n\u001b[0m",
      "\u001b[0;31mValueError\u001b[0m: Invalid argument in __init__: Data: [[ 6.06548400e-01  8.16957655e-01  1.05132077e+00  1.65712464e+00\n  -4.59717681e-01 -5.88963928e-01  6.50323214e-01  5.03170861e-02\n   1.70548352e+00  1.41767401e+00 -7.37289628e-01  3.09816759e-01\n   7.78174179e-01 -1.12478707e+00 -1.28393266e+00  8.07509886e-02\n   9.49961101e-02 -3.64538050e-01  1.64665066e-01 -7.67803746e-01]\n [-2.90545028e-03 -1.18951588e+00 -2.92578935e-01  1.49640531e+00\n  -1.20115566e+00 -9.55756520e-02  5.37705087e-01 -3.48471140e-01\n  -2.99094967e-01  1.67072922e+00 -6.06303023e-02  3.29489967e-01\n   4.40956001e-01  3.83606926e-01  8.56514986e-01 -2.82005902e-01\n   8.15600360e-01  2.19477494e-01  9.64022632e-01  4.99224881e-02]\n [-2.79144404e+00  1.06080576e+00 -2.26261533e+00  4.89219194e-01\n   2.09012280e-01  7.90061048e-01  2.02447357e-01  1.52186577e+00\n  -1.76440808e+00 -1.11683226e+00  2.00556158e+00 -1.76936557e-01\n   1.55356522e+00  5.85308978e-01 -1.47841532e-02 -1.22606996e+00\n  -4.19717870e-01 -4.82726862e-01  4.52713622e-01 -3.84824623e-02]\n [-2.51852197e-01  3.29535191e-01 -3.01603199e+00  3.00253676e-01\n   1.16533544e+00  1.12643073e+00 -2.19552167e-01  8.05913307e-01\n   1.96645295e-01 -4.29595674e-01 -1.32648965e+00  1.00819561e+00\n   1.11548937e+00  1.34104147e+00  9.31688688e-01  2.00514053e+00\n  -1.61964569e+00 -1.48941229e-01  3.08204134e-01 -1.87626349e-01]\n [-9.77773002e-01  1.11298159e+00 -3.69255902e-01  1.00568668e+00\n   1.06032751e+00 -3.27882802e-01 -3.48984191e-01  6.14726276e-01\n  -1.71116766e+00  3.53567216e-01  1.71957132e-01 -5.22356465e-01\n  -1.39528303e+00 -9.08018711e-01 -1.24490005e+00 -2.60466059e-01\n   2.65642403e-01  9.81122462e-02  4.90561044e-01  4.45096710e-01]], Categoricals: [], Numericals: [0, 1, 2, 3, 4, 5, 6, 7, 8, 9, 10, 11, 12, 13, 14, 15, 16, 17, 18, 19], IsEncoded: True is not of type <class 'numpy.ndarray'>"
     ]
    }
   ],
   "source": [
    "import os\n",
    "import sys\n",
    "import inspect\n",
    "\n",
    "sys.path.insert(1, os.path.join(sys.path[0], '..'))\n",
    "\n",
    "import fatapi\n",
    "from fatapi.data import Data\n",
    "from fatapi.model import BlackBox, Model, DensityEstimator\n",
    "import numpy as np\n",
    "from fatapi.methods import FACEMethod\n",
    "from sklearn.neural_network import MLPClassifier\n",
    "from sklearn.datasets import make_classification\n",
    "from sklearn.model_selection import GridSearchCV\n",
    "from sklearn.neighbors import KernelDensity\n",
    "from sklearn.model_selection import train_test_split\n",
    "\n",
    "X, y = make_classification(n_samples=100, random_state=1)\n",
    "X_train, X_test, y_train, y_test = train_test_split(X, y, stratify=y, random_state=1)\n",
    "clf = MLPClassifier(random_state=1, max_iter=300).fit(X_train, y_train)\n",
    "\n",
    "print(f\"Predicted classes of X_test[:5, :]: {clf.predict(X_test[:5, :])}\")\n",
    "print(f\"Classification accuracy: {clf.score(X_test, y_test)}\\n\")\n",
    "data_X = Data(dataset=X_test, dtype=\"data\", encoded=True)\n",
    "data_y = Data(dataset=y_test, dtype=\"target\", encoded=True)\n",
    "\n",
    "# Has to return a boolean \n",
    "def conditionf(**kwargs):\n",
    "    return True\n",
    "\n",
    "row_indicies = [0,1,2,3,4]\n",
    "blackb = BlackBox(clf)\n",
    "face_model = Model(data_X, data_y, blackbox=blackb)\n",
    "bandwidths = 10 ** np.linspace(-2, 1, 100)  \n",
    "grid = GridSearchCV(KernelDensity(kernel='gaussian'),\n",
    "                    {'bandwidth': bandwidths},\n",
    "                    cv=20)\n",
    "\n",
    "grid.fit(data_X.dataset)\n",
    "dens_est = grid.best_estimator_\n",
    "dens_estt = DensityEstimator(estimator=dens_est)\n",
    "factuals = data_X.get_rows_as_data(row_indicies)\n",
    "factuals_target = data_y.get_rows_as_data(row_indicies)\n",
    "\n",
    "face_method = FACEMethod(factuals=factuals, \n",
    "                         factuals_target=factuals_target, \n",
    "                         model=face_model, kernel_type=\"kde\", \n",
    "                         t_prediction=0.5, epsilon=0.7,\n",
    "                         t_density=0.0, t_radius_limit=1.10, n_neighbours=20,\n",
    "                         K=10, conditions=conditionf, density_estimator=dens_estt)\n",
    "face_method.explain()\n",
    "print(f\"Graph [Distances]: {face_method.get_graph()}\\n\")\n",
    "print(f\"Paths [Indexes]: {face_method.get_explain_paths()}\\n\")\n",
    "print(f\"Candidates for Counterfactuals [Indexes]: {face_method.get_explain_candidates()}\")\n",
    "\n",
    "counterfactuals_as_indexes = face_method.get_counterfactuals(as_indexes=True)\n",
    "counterfactuals = face_method.get_counterfactuals()\n",
    "counterfactuals_data, counterfactuals_target = face_method.get_counterfactuals_as_data()\n",
    "\n",
    "print(f\"Counterfactuals [Indexes]: {face_method.get_counterfactuals(True)}\")\n",
    "\n",
    "print(f\"\\nfor factual X[{row_indicies[0]}] (as data: {factuals.dataset[0]}), the counterfactual is X[{counterfactuals_as_indexes[0]}] (as classification: {counterfactuals[0]})\")\n",
    "print(f\"\\nCounterfactual for X[0] (X[6]) as target (Y) and data (X): \\nX[{counterfactuals_as_indexes[0]}]: {counterfactuals_data[0]}, Y[{counterfactuals_as_indexes[0]}]: {counterfactuals_target[0]}\")"
   ]
  },
  {
   "cell_type": "code",
   "execution_count": null,
   "id": "ea63c9ce",
   "metadata": {},
   "outputs": [],
   "source": []
  }
 ],
 "metadata": {
  "interpreter": {
   "hash": "b3ba2566441a7c06988d0923437866b63cedc61552a5af99d1f4fb67d367b25f"
  },
  "kernelspec": {
   "display_name": "Python 3 (ipykernel)",
   "language": "python",
   "name": "python3"
  },
  "language_info": {
   "codemirror_mode": {
    "name": "ipython",
    "version": 3
   },
   "file_extension": ".py",
   "mimetype": "text/x-python",
   "name": "python",
   "nbconvert_exporter": "python",
   "pygments_lexer": "ipython3",
   "version": "3.8.10"
  }
 },
 "nbformat": 4,
 "nbformat_minor": 5
}
